{
 "cells": [
  {
   "cell_type": "code",
   "execution_count": 9,
   "metadata": {},
   "outputs": [],
   "source": [
    "from keras.models import Sequential\n",
    "from keras.layers import Dense\n",
    "import matplotlib.pyplot as plt\n",
    "import numpy as np"
   ]
  },
  {
   "cell_type": "code",
   "execution_count": 10,
   "metadata": {},
   "outputs": [],
   "source": [
    "df = np.loadtxt('pima-indians-diabetes.csv', delimiter = ',')"
   ]
  },
  {
   "cell_type": "code",
   "execution_count": 11,
   "metadata": {},
   "outputs": [],
   "source": [
    "X = df[:, 0:8]\n",
    "y = df[:, 8]"
   ]
  },
  {
   "cell_type": "code",
   "execution_count": 12,
   "metadata": {},
   "outputs": [],
   "source": [
    "model = Sequential()\n",
    "model.add(Dense(12, input_dim = 8, activation = 'relu'))\n",
    "model.add(Dense(8, activation = 'relu'))\n",
    "model.add(Dense(1, activation = 'sigmoid'))"
   ]
  },
  {
   "cell_type": "code",
   "execution_count": 13,
   "metadata": {},
   "outputs": [],
   "source": [
    "model.compile('adam', 'binary_crossentropy', metrics = ['accuracy'])"
   ]
  },
  {
   "cell_type": "code",
   "execution_count": 14,
   "metadata": {},
   "outputs": [
    {
     "name": "stdout",
     "output_type": "stream",
     "text": [
      "Train on 514 samples, validate on 254 samples\n",
      "Epoch 1/100\n",
      "514/514 [==============================] - 1s 1ms/step - loss: 7.2337 - acc: 0.4844 - val_loss: 6.2257 - val_acc: 0.5236\n",
      "Epoch 2/100\n",
      "514/514 [==============================] - 0s 227us/step - loss: 4.3663 - acc: 0.5584 - val_loss: 3.3995 - val_acc: 0.5709\n",
      "Epoch 3/100\n",
      "514/514 [==============================] - 0s 231us/step - loss: 3.6452 - acc: 0.5798 - val_loss: 3.2114 - val_acc: 0.6535\n",
      "Epoch 4/100\n",
      "514/514 [==============================] - 0s 222us/step - loss: 3.4293 - acc: 0.6070 - val_loss: 2.9875 - val_acc: 0.6181\n",
      "Epoch 5/100\n",
      "514/514 [==============================] - 0s 237us/step - loss: 3.2578 - acc: 0.6323 - val_loss: 2.9542 - val_acc: 0.6614\n",
      "Epoch 6/100\n",
      "514/514 [==============================] - 0s 221us/step - loss: 3.2204 - acc: 0.6245 - val_loss: 2.8789 - val_acc: 0.6575\n",
      "Epoch 7/100\n",
      "514/514 [==============================] - 0s 236us/step - loss: 3.1603 - acc: 0.6498 - val_loss: 2.8512 - val_acc: 0.6614\n",
      "Epoch 8/100\n",
      "514/514 [==============================] - 0s 224us/step - loss: 3.1279 - acc: 0.6518 - val_loss: 2.8262 - val_acc: 0.6535\n",
      "Epoch 9/100\n",
      "514/514 [==============================] - 0s 236us/step - loss: 3.1107 - acc: 0.6420 - val_loss: 2.7993 - val_acc: 0.6654\n",
      "Epoch 10/100\n",
      "514/514 [==============================] - 0s 265us/step - loss: 3.1031 - acc: 0.6537 - val_loss: 2.7899 - val_acc: 0.6732\n",
      "Epoch 11/100\n",
      "514/514 [==============================] - 0s 234us/step - loss: 3.0719 - acc: 0.6576 - val_loss: 2.7689 - val_acc: 0.6811\n",
      "Epoch 12/100\n",
      "514/514 [==============================] - 0s 212us/step - loss: 3.0510 - acc: 0.6595 - val_loss: 2.7308 - val_acc: 0.6654\n",
      "Epoch 13/100\n",
      "514/514 [==============================] - 0s 237us/step - loss: 2.9102 - acc: 0.6693 - val_loss: 2.5468 - val_acc: 0.6811\n",
      "Epoch 14/100\n",
      "514/514 [==============================] - 0s 220us/step - loss: 2.1776 - acc: 0.6362 - val_loss: 0.9455 - val_acc: 0.5551\n",
      "Epoch 15/100\n",
      "514/514 [==============================] - 0s 239us/step - loss: 0.8967 - acc: 0.6595 - val_loss: 0.8158 - val_acc: 0.5827\n",
      "Epoch 16/100\n",
      "514/514 [==============================] - 0s 233us/step - loss: 0.8266 - acc: 0.6537 - val_loss: 0.8014 - val_acc: 0.6496\n",
      "Epoch 17/100\n",
      "514/514 [==============================] - 0s 229us/step - loss: 0.7528 - acc: 0.6829 - val_loss: 0.7267 - val_acc: 0.6535\n",
      "Epoch 18/100\n",
      "514/514 [==============================] - 0s 234us/step - loss: 0.6867 - acc: 0.6868 - val_loss: 0.6811 - val_acc: 0.6024\n",
      "Epoch 19/100\n",
      "514/514 [==============================] - 0s 258us/step - loss: 0.6834 - acc: 0.6693 - val_loss: 0.7025 - val_acc: 0.6654\n",
      "Epoch 20/100\n",
      "514/514 [==============================] - 0s 222us/step - loss: 0.6552 - acc: 0.6848 - val_loss: 0.6900 - val_acc: 0.6142\n",
      "Epoch 21/100\n",
      "514/514 [==============================] - 0s 255us/step - loss: 0.6396 - acc: 0.6946 - val_loss: 0.6965 - val_acc: 0.6299\n",
      "Epoch 22/100\n",
      "514/514 [==============================] - 0s 235us/step - loss: 0.6392 - acc: 0.6926 - val_loss: 0.6696 - val_acc: 0.6181\n",
      "Epoch 23/100\n",
      "514/514 [==============================] - 0s 251us/step - loss: 0.6321 - acc: 0.6984 - val_loss: 0.6658 - val_acc: 0.6339\n",
      "Epoch 24/100\n",
      "514/514 [==============================] - 0s 226us/step - loss: 0.6278 - acc: 0.7043 - val_loss: 0.6837 - val_acc: 0.6339\n",
      "Epoch 25/100\n",
      "514/514 [==============================] - 0s 261us/step - loss: 0.6328 - acc: 0.7043 - val_loss: 0.7104 - val_acc: 0.5669\n",
      "Epoch 26/100\n",
      "514/514 [==============================] - 0s 296us/step - loss: 0.6350 - acc: 0.6984 - val_loss: 0.6660 - val_acc: 0.6614\n",
      "Epoch 27/100\n",
      "514/514 [==============================] - 0s 340us/step - loss: 0.6421 - acc: 0.6926 - val_loss: 0.6574 - val_acc: 0.6339\n",
      "Epoch 28/100\n",
      "514/514 [==============================] - 0s 261us/step - loss: 0.6185 - acc: 0.7101 - val_loss: 0.6616 - val_acc: 0.6378\n",
      "Epoch 29/100\n",
      "514/514 [==============================] - 0s 299us/step - loss: 0.6138 - acc: 0.7276 - val_loss: 0.6902 - val_acc: 0.6063\n",
      "Epoch 30/100\n",
      "514/514 [==============================] - 0s 261us/step - loss: 0.6247 - acc: 0.7043 - val_loss: 0.6526 - val_acc: 0.6457\n",
      "Epoch 31/100\n",
      "514/514 [==============================] - 0s 292us/step - loss: 0.6195 - acc: 0.7043 - val_loss: 0.6844 - val_acc: 0.6496\n",
      "Epoch 32/100\n",
      "514/514 [==============================] - 0s 241us/step - loss: 0.6283 - acc: 0.7062 - val_loss: 0.6629 - val_acc: 0.6535\n",
      "Epoch 33/100\n",
      "514/514 [==============================] - 0s 243us/step - loss: 0.6150 - acc: 0.6984 - val_loss: 0.6569 - val_acc: 0.6496\n",
      "Epoch 34/100\n",
      "514/514 [==============================] - 0s 387us/step - loss: 0.6164 - acc: 0.7101 - val_loss: 0.6561 - val_acc: 0.6535\n",
      "Epoch 35/100\n",
      "514/514 [==============================] - 0s 249us/step - loss: 0.6178 - acc: 0.7121 - val_loss: 0.6562 - val_acc: 0.6496\n",
      "Epoch 36/100\n",
      "514/514 [==============================] - 0s 216us/step - loss: 0.6134 - acc: 0.7140 - val_loss: 0.6671 - val_acc: 0.6496\n",
      "Epoch 37/100\n",
      "514/514 [==============================] - 0s 204us/step - loss: 0.6129 - acc: 0.7354 - val_loss: 0.6519 - val_acc: 0.6535\n",
      "Epoch 38/100\n",
      "514/514 [==============================] - 0s 255us/step - loss: 0.6116 - acc: 0.7218 - val_loss: 0.6517 - val_acc: 0.6693\n",
      "Epoch 39/100\n",
      "514/514 [==============================] - 0s 356us/step - loss: 0.6133 - acc: 0.7121 - val_loss: 0.6526 - val_acc: 0.6614\n",
      "Epoch 40/100\n",
      "514/514 [==============================] - 0s 282us/step - loss: 0.6196 - acc: 0.7101 - val_loss: 0.6505 - val_acc: 0.6496\n",
      "Epoch 41/100\n",
      "514/514 [==============================] - 0s 239us/step - loss: 0.6163 - acc: 0.7160 - val_loss: 0.6539 - val_acc: 0.6417\n",
      "Epoch 42/100\n",
      "514/514 [==============================] - 0s 255us/step - loss: 0.6102 - acc: 0.7023 - val_loss: 0.6453 - val_acc: 0.6457\n",
      "Epoch 43/100\n",
      "514/514 [==============================] - 0s 231us/step - loss: 0.6125 - acc: 0.7043 - val_loss: 0.6527 - val_acc: 0.6535\n",
      "Epoch 44/100\n",
      "514/514 [==============================] - 0s 233us/step - loss: 0.6157 - acc: 0.7023 - val_loss: 0.6434 - val_acc: 0.6614\n",
      "Epoch 45/100\n",
      "514/514 [==============================] - 0s 272us/step - loss: 0.6161 - acc: 0.7237 - val_loss: 0.6184 - val_acc: 0.6575\n",
      "Epoch 46/100\n",
      "514/514 [==============================] - 0s 253us/step - loss: 0.6041 - acc: 0.7237 - val_loss: 0.6516 - val_acc: 0.6575\n",
      "Epoch 47/100\n",
      "514/514 [==============================] - 0s 336us/step - loss: 0.6018 - acc: 0.7315 - val_loss: 0.6329 - val_acc: 0.6457\n",
      "Epoch 48/100\n",
      "514/514 [==============================] - 0s 231us/step - loss: 0.6033 - acc: 0.7121 - val_loss: 0.6441 - val_acc: 0.6535\n",
      "Epoch 49/100\n",
      "514/514 [==============================] - 0s 327us/step - loss: 0.6072 - acc: 0.7082 - val_loss: 0.6460 - val_acc: 0.6417\n",
      "Epoch 50/100\n",
      "514/514 [==============================] - 0s 340us/step - loss: 0.5957 - acc: 0.7335 - val_loss: 0.6620 - val_acc: 0.6417\n",
      "Epoch 51/100\n",
      "514/514 [==============================] - 0s 262us/step - loss: 0.6003 - acc: 0.7257 - val_loss: 0.6232 - val_acc: 0.6575\n",
      "Epoch 52/100\n",
      "514/514 [==============================] - 0s 226us/step - loss: 0.5995 - acc: 0.7160 - val_loss: 0.6214 - val_acc: 0.6457\n",
      "Epoch 53/100\n",
      "514/514 [==============================] - 0s 226us/step - loss: 0.5991 - acc: 0.7218 - val_loss: 0.6200 - val_acc: 0.6417\n",
      "Epoch 54/100\n",
      "514/514 [==============================] - 0s 231us/step - loss: 0.6025 - acc: 0.7043 - val_loss: 0.6338 - val_acc: 0.6732\n",
      "Epoch 55/100\n",
      "514/514 [==============================] - 0s 217us/step - loss: 0.5994 - acc: 0.7257 - val_loss: 0.6253 - val_acc: 0.6732\n",
      "Epoch 56/100\n",
      "514/514 [==============================] - 0s 231us/step - loss: 0.5972 - acc: 0.7257 - val_loss: 0.6174 - val_acc: 0.6614\n",
      "Epoch 57/100\n",
      "514/514 [==============================] - 0s 222us/step - loss: 0.5967 - acc: 0.7121 - val_loss: 0.6197 - val_acc: 0.6732\n",
      "Epoch 58/100\n",
      "514/514 [==============================] - 0s 284us/step - loss: 0.5879 - acc: 0.7354 - val_loss: 0.6235 - val_acc: 0.6496\n",
      "Epoch 59/100\n",
      "514/514 [==============================] - 0s 216us/step - loss: 0.5860 - acc: 0.7393 - val_loss: 0.6163 - val_acc: 0.6693\n",
      "Epoch 60/100\n",
      "514/514 [==============================] - 0s 231us/step - loss: 0.5952 - acc: 0.7315 - val_loss: 0.6312 - val_acc: 0.6614\n"
     ]
    },
    {
     "name": "stdout",
     "output_type": "stream",
     "text": [
      "Epoch 61/100\n",
      "514/514 [==============================] - 0s 225us/step - loss: 0.5967 - acc: 0.7062 - val_loss: 0.6105 - val_acc: 0.6496\n",
      "Epoch 62/100\n",
      "514/514 [==============================] - 0s 224us/step - loss: 0.5899 - acc: 0.7082 - val_loss: 0.6320 - val_acc: 0.6772\n",
      "Epoch 63/100\n",
      "514/514 [==============================] - 0s 205us/step - loss: 0.5867 - acc: 0.7432 - val_loss: 0.6157 - val_acc: 0.6535\n",
      "Epoch 64/100\n",
      "514/514 [==============================] - 0s 255us/step - loss: 0.5887 - acc: 0.7335 - val_loss: 0.6172 - val_acc: 0.6732\n",
      "Epoch 65/100\n",
      "514/514 [==============================] - 0s 214us/step - loss: 0.5851 - acc: 0.7218 - val_loss: 0.6385 - val_acc: 0.6654\n",
      "Epoch 66/100\n",
      "514/514 [==============================] - 0s 228us/step - loss: 0.5959 - acc: 0.7179 - val_loss: 0.6216 - val_acc: 0.6693\n",
      "Epoch 67/100\n",
      "514/514 [==============================] - 0s 225us/step - loss: 0.5862 - acc: 0.7198 - val_loss: 0.6310 - val_acc: 0.6732\n",
      "Epoch 68/100\n",
      "514/514 [==============================] - 0s 202us/step - loss: 0.5887 - acc: 0.7179 - val_loss: 0.6321 - val_acc: 0.6850\n",
      "Epoch 69/100\n",
      "514/514 [==============================] - 0s 238us/step - loss: 0.5854 - acc: 0.7315 - val_loss: 0.6267 - val_acc: 0.6535\n",
      "Epoch 70/100\n",
      "514/514 [==============================] - 0s 220us/step - loss: 0.5940 - acc: 0.7101 - val_loss: 0.6227 - val_acc: 0.6575\n",
      "Epoch 71/100\n",
      "514/514 [==============================] - 0s 238us/step - loss: 0.5807 - acc: 0.7374 - val_loss: 0.6224 - val_acc: 0.6614\n",
      "Epoch 72/100\n",
      "514/514 [==============================] - 0s 224us/step - loss: 0.5853 - acc: 0.7179 - val_loss: 0.6191 - val_acc: 0.6693\n",
      "Epoch 73/100\n",
      "514/514 [==============================] - 0s 233us/step - loss: 0.5807 - acc: 0.7296 - val_loss: 0.6170 - val_acc: 0.6654\n",
      "Epoch 74/100\n",
      "514/514 [==============================] - 0s 208us/step - loss: 0.5819 - acc: 0.7257 - val_loss: 0.6421 - val_acc: 0.6614\n",
      "Epoch 75/100\n",
      "514/514 [==============================] - 0s 237us/step - loss: 0.6063 - acc: 0.6965 - val_loss: 0.6283 - val_acc: 0.6614\n",
      "Epoch 76/100\n",
      "514/514 [==============================] - 0s 232us/step - loss: 0.6045 - acc: 0.7257 - val_loss: 0.6333 - val_acc: 0.6614\n",
      "Epoch 77/100\n",
      "514/514 [==============================] - 0s 234us/step - loss: 0.5873 - acc: 0.7335 - val_loss: 0.6178 - val_acc: 0.6772\n",
      "Epoch 78/100\n",
      "514/514 [==============================] - 0s 196us/step - loss: 0.5769 - acc: 0.7335 - val_loss: 0.6129 - val_acc: 0.6969\n",
      "Epoch 79/100\n",
      "514/514 [==============================] - 0s 216us/step - loss: 0.5808 - acc: 0.7218 - val_loss: 0.6241 - val_acc: 0.6772\n",
      "Epoch 80/100\n",
      "514/514 [==============================] - 0s 204us/step - loss: 0.5771 - acc: 0.7393 - val_loss: 0.6210 - val_acc: 0.6850\n",
      "Epoch 81/100\n",
      "514/514 [==============================] - 0s 202us/step - loss: 0.5778 - acc: 0.7432 - val_loss: 0.5774 - val_acc: 0.6654\n",
      "Epoch 82/100\n",
      "514/514 [==============================] - 0s 225us/step - loss: 0.5840 - acc: 0.7004 - val_loss: 0.6300 - val_acc: 0.7126\n",
      "Epoch 83/100\n",
      "514/514 [==============================] - 0s 213us/step - loss: 0.5830 - acc: 0.7198 - val_loss: 0.6089 - val_acc: 0.6811\n",
      "Epoch 84/100\n",
      "514/514 [==============================] - 0s 227us/step - loss: 0.5806 - acc: 0.7179 - val_loss: 0.6082 - val_acc: 0.6929\n",
      "Epoch 85/100\n",
      "514/514 [==============================] - 0s 240us/step - loss: 0.5822 - acc: 0.7315 - val_loss: 0.6075 - val_acc: 0.6890\n",
      "Epoch 86/100\n",
      "514/514 [==============================] - 0s 218us/step - loss: 0.5723 - acc: 0.7432 - val_loss: 0.6173 - val_acc: 0.6772\n",
      "Epoch 87/100\n",
      "514/514 [==============================] - 0s 223us/step - loss: 0.5742 - acc: 0.7432 - val_loss: 0.6058 - val_acc: 0.6693\n",
      "Epoch 88/100\n",
      "514/514 [==============================] - 0s 240us/step - loss: 0.5706 - acc: 0.7374 - val_loss: 0.6083 - val_acc: 0.6732\n",
      "Epoch 89/100\n",
      "514/514 [==============================] - 0s 222us/step - loss: 0.5728 - acc: 0.7374 - val_loss: 0.6107 - val_acc: 0.6693\n",
      "Epoch 90/100\n",
      "514/514 [==============================] - 0s 240us/step - loss: 0.5703 - acc: 0.7451 - val_loss: 0.6117 - val_acc: 0.6969\n",
      "Epoch 91/100\n",
      "514/514 [==============================] - 0s 216us/step - loss: 0.5768 - acc: 0.7160 - val_loss: 0.6239 - val_acc: 0.6535\n",
      "Epoch 92/100\n",
      "514/514 [==============================] - 0s 232us/step - loss: 0.5697 - acc: 0.7354 - val_loss: 0.6034 - val_acc: 0.7008\n",
      "Epoch 93/100\n",
      "514/514 [==============================] - 0s 200us/step - loss: 0.5733 - acc: 0.7412 - val_loss: 0.6142 - val_acc: 0.6850\n",
      "Epoch 94/100\n",
      "514/514 [==============================] - 0s 242us/step - loss: 0.5736 - acc: 0.7451 - val_loss: 0.6076 - val_acc: 0.6811\n",
      "Epoch 95/100\n",
      "514/514 [==============================] - 0s 206us/step - loss: 0.5716 - acc: 0.7335 - val_loss: 0.6143 - val_acc: 0.6811\n",
      "Epoch 96/100\n",
      "514/514 [==============================] - 0s 198us/step - loss: 0.5806 - acc: 0.7160 - val_loss: 0.6044 - val_acc: 0.6732\n",
      "Epoch 97/100\n",
      "514/514 [==============================] - 0s 219us/step - loss: 0.5703 - acc: 0.7296 - val_loss: 0.6182 - val_acc: 0.6732\n",
      "Epoch 98/100\n",
      "514/514 [==============================] - 0s 217us/step - loss: 0.5882 - acc: 0.7218 - val_loss: 0.5979 - val_acc: 0.6772\n",
      "Epoch 99/100\n",
      "514/514 [==============================] - 0s 240us/step - loss: 0.5812 - acc: 0.7276 - val_loss: 0.5987 - val_acc: 0.7008\n",
      "Epoch 100/100\n",
      "514/514 [==============================] - 0s 217us/step - loss: 0.5732 - acc: 0.7432 - val_loss: 0.5982 - val_acc: 0.7047\n"
     ]
    }
   ],
   "source": [
    "history = model.fit(X, y, epochs = 100, validation_split = 0.33, batch_size = 10, verbose = 1)"
   ]
  },
  {
   "cell_type": "code",
   "execution_count": 15,
   "metadata": {},
   "outputs": [
    {
     "data": {
      "text/plain": [
       "dict_keys(['val_loss', 'val_acc', 'loss', 'acc'])"
      ]
     },
     "execution_count": 15,
     "metadata": {},
     "output_type": "execute_result"
    }
   ],
   "source": [
    "history.history.keys()"
   ]
  },
  {
   "cell_type": "code",
   "execution_count": 18,
   "metadata": {},
   "outputs": [
    {
     "data": {
      "image/png": "[encoded data removed]",
      "text/plain": [
       "<Figure size 432x288 with 1 Axes>"
      ]
     },
     "metadata": {
      "needs_background": "light"
     },
     "output_type": "display_data"
    }
   ],
   "source": [
    "plt.plot(history.history['acc'])\n",
    "plt.plot(history.history['val_acc'])\n",
    "plt.xlabel('epochs')\n",
    "plt.ylabel('accuracy')\n",
    "plt.legend(['train', 'test'], loc = 'upper left')\n",
    "plt.show()"
   ]
  },
  {
   "cell_type": "code",
   "execution_count": 19,
   "metadata": {},
   "outputs": [
    {
     "data": {
      "image/png": "[encoded data removed]",
      "text/plain": [
       "<Figure size 432x288 with 1 Axes>"
      ]
     },
     "metadata": {
      "needs_background": "light"
     },
     "output_type": "display_data"
    }
   ],
   "source": [
    "plt.plot(history.history['loss'])\n",
    "plt.plot(history.history['val_loss'])\n",
    "plt.xlabel('Loss')\n",
    "plt.ylabel('epochs')\n",
    "plt.legend(['train', 'test'], loc = 'upper left')\n",
    "plt.show()"
   ]
  },
  {
   "cell_type": "code",
   "execution_count": null,
   "metadata": {},
   "outputs": [],
   "source": []
  }
 ],
 "metadata": {
  "kernelspec": {
   "display_name": "Python 3",
   "language": "python",
   "name": "python3"
  },
  "language_info": {
   "codemirror_mode": {
    "name": "ipython",
    "version": 3
   },
   "file_extension": ".py",
   "mimetype": "text/x-python",
   "name": "python",
   "nbconvert_exporter": "python",
   "pygments_lexer": "ipython3",
   "version": "3.7.3"
  }
 },
 "nbformat": 4,
 "nbformat_minor": 2
}
